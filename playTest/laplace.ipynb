{
 "cells": [
  {
   "cell_type": "markdown",
   "metadata": {},
   "source": [
    "# MNIST"
   ]
  },
  {
   "cell_type": "code",
   "execution_count": 1,
   "metadata": {},
   "outputs": [],
   "source": [
    "import copy\n",
    "from matplotlib import pyplot as plt\n",
    "import numpy as np\n",
    "import torch\n",
    "import torch.nn as nn\n",
    "import torch.optim as optim\n",
    "from torchvision import datasets, transforms\n",
    "from torch.utils.data import DataLoader"
   ]
  },
  {
   "cell_type": "code",
   "execution_count": 2,
   "metadata": {},
   "outputs": [
    {
     "name": "stdout",
     "output_type": "stream",
     "text": [
      "cuda:0\n"
     ]
    }
   ],
   "source": [
    "device = torch.device(\"cuda:0\" if torch.cuda.is_available() else \"cpu\")\n",
    "print(device)"
   ]
  },
  {
   "cell_type": "code",
   "execution_count": 3,
   "metadata": {},
   "outputs": [],
   "source": [
    "# Define a transformation to normalize pixel values to a range between -1 and 1\n",
    "transform = transforms.Compose([transforms.ToTensor(), transforms.Normalize((0.5,), (0.5,))])\n",
    "\n",
    "# Load the MNIST dataset\n",
    "train_dataset = datasets.MNIST(root=\"../\", train=True, transform=transform, download=False)\n",
    "test_dataset = datasets.MNIST(root=\"../\", train=False, transform=transform, download=False)\n",
    "\n",
    "# Create data loaders for batching and shuffling\n",
    "batch_size = 64\n",
    "train_loader = DataLoader(train_dataset, batch_size=batch_size, shuffle=True)\n",
    "test_loader = DataLoader(test_dataset, batch_size=batch_size)\n",
    "\n",
    "# Set a random seed for reproducibility\n",
    "torch.manual_seed(42)\n",
    "\n",
    "targets = torch.cat([y for x, y in test_loader], dim=0).numpy()"
   ]
  },
  {
   "cell_type": "code",
   "execution_count": 4,
   "metadata": {},
   "outputs": [],
   "source": [
    "class MLP(nn.Module):\n",
    "    def __init__(self):\n",
    "        super(MLP, self).__init__()\n",
    "        self.flatten = nn.Flatten()\n",
    "        self.fc1 = nn.Linear(28 * 28, 128)\n",
    "        self.relu = nn.ReLU()\n",
    "        self.fc2 = nn.Linear(128, 10)\n",
    "\n",
    "    def update_layers(self, new_layers):\n",
    "        for i, new_layer in enumerate(new_layers):\n",
    "            if hasattr(self, f'fc{i + 1}'):\n",
    "                setattr(self, f'fc{i + 1}', new_layer)\n",
    "\n",
    "    def forward(self, x):\n",
    "        x = self.flatten(x)\n",
    "        x = self.fc1(x)\n",
    "        x = self.relu(x)\n",
    "        x = self.fc2(x)\n",
    "        return x"
   ]
  },
  {
   "cell_type": "code",
   "execution_count": 5,
   "metadata": {},
   "outputs": [],
   "source": [
    "def train(model, train_loader, criterion, optimizer, epochs=10, device=device):\n",
    "    for epoch in range(epochs):\n",
    "        model.train()\n",
    "        for batch_idx, (data, target) in enumerate(train_loader):\n",
    "            data = data.to(device)\n",
    "            target = target.to(device)\n",
    "            optimizer.zero_grad()\n",
    "            output = model(data)\n",
    "            loss = criterion(output, target)\n",
    "            loss.backward()\n",
    "            optimizer.step()\n",
    "\n",
    "            if batch_idx % 100 == 0:\n",
    "                print(f\"Epoch {epoch+1}/{epochs}, Batch {batch_idx}/{len(train_loader)}, Loss: {loss.item()}\")"
   ]
  },
  {
   "cell_type": "code",
   "execution_count": 6,
   "metadata": {},
   "outputs": [
    {
     "name": "stdout",
     "output_type": "stream",
     "text": [
      "Epoch 1/10, Batch 0/938, Loss: 2.2986912727355957\n",
      "Epoch 1/10, Batch 100/938, Loss: 0.536418080329895\n",
      "Epoch 1/10, Batch 200/938, Loss: 0.24840493500232697\n",
      "Epoch 1/10, Batch 300/938, Loss: 0.3447805643081665\n",
      "Epoch 1/10, Batch 400/938, Loss: 0.30978962779045105\n",
      "Epoch 1/10, Batch 500/938, Loss: 0.32436466217041016\n",
      "Epoch 1/10, Batch 600/938, Loss: 0.11708302795886993\n",
      "Epoch 1/10, Batch 700/938, Loss: 0.2867242693901062\n",
      "Epoch 1/10, Batch 800/938, Loss: 0.2118917554616928\n",
      "Epoch 1/10, Batch 900/938, Loss: 0.15657038986682892\n",
      "Epoch 2/10, Batch 0/938, Loss: 0.27718374133110046\n",
      "Epoch 2/10, Batch 100/938, Loss: 0.15662340819835663\n",
      "Epoch 2/10, Batch 200/938, Loss: 0.3485846519470215\n",
      "Epoch 2/10, Batch 300/938, Loss: 0.25658610463142395\n",
      "Epoch 2/10, Batch 400/938, Loss: 0.3115203380584717\n",
      "Epoch 2/10, Batch 500/938, Loss: 0.1860094964504242\n",
      "Epoch 2/10, Batch 600/938, Loss: 0.2925609350204468\n",
      "Epoch 2/10, Batch 700/938, Loss: 0.23824694752693176\n",
      "Epoch 2/10, Batch 800/938, Loss: 0.06290964782238007\n",
      "Epoch 2/10, Batch 900/938, Loss: 0.13578708469867706\n",
      "Epoch 3/10, Batch 0/938, Loss: 0.370980441570282\n",
      "Epoch 3/10, Batch 100/938, Loss: 0.15205134451389313\n",
      "Epoch 3/10, Batch 200/938, Loss: 0.1770305186510086\n",
      "Epoch 3/10, Batch 300/938, Loss: 0.14067332446575165\n",
      "Epoch 3/10, Batch 400/938, Loss: 0.17307506501674652\n",
      "Epoch 3/10, Batch 500/938, Loss: 0.19534370303153992\n",
      "Epoch 3/10, Batch 600/938, Loss: 0.11508064717054367\n",
      "Epoch 3/10, Batch 700/938, Loss: 0.08718033134937286\n",
      "Epoch 3/10, Batch 800/938, Loss: 0.20669256150722504\n",
      "Epoch 3/10, Batch 900/938, Loss: 0.11013344675302505\n",
      "Epoch 4/10, Batch 0/938, Loss: 0.0532190166413784\n",
      "Epoch 4/10, Batch 100/938, Loss: 0.2405644804239273\n",
      "Epoch 4/10, Batch 200/938, Loss: 0.0857870802283287\n",
      "Epoch 4/10, Batch 300/938, Loss: 0.026419522240757942\n",
      "Epoch 4/10, Batch 400/938, Loss: 0.035376980900764465\n",
      "Epoch 4/10, Batch 500/938, Loss: 0.2716269791126251\n",
      "Epoch 4/10, Batch 600/938, Loss: 0.13636603951454163\n",
      "Epoch 4/10, Batch 700/938, Loss: 0.02291637472808361\n",
      "Epoch 4/10, Batch 800/938, Loss: 0.15369223058223724\n",
      "Epoch 4/10, Batch 900/938, Loss: 0.11418557167053223\n",
      "Epoch 5/10, Batch 0/938, Loss: 0.24362555146217346\n",
      "Epoch 5/10, Batch 100/938, Loss: 0.21960923075675964\n",
      "Epoch 5/10, Batch 200/938, Loss: 0.14205533266067505\n",
      "Epoch 5/10, Batch 300/938, Loss: 0.08910978585481644\n",
      "Epoch 5/10, Batch 400/938, Loss: 0.10952915251255035\n",
      "Epoch 5/10, Batch 500/938, Loss: 0.07688149064779282\n",
      "Epoch 5/10, Batch 600/938, Loss: 0.09221313893795013\n",
      "Epoch 5/10, Batch 700/938, Loss: 0.18041054904460907\n",
      "Epoch 5/10, Batch 800/938, Loss: 0.1278022974729538\n",
      "Epoch 5/10, Batch 900/938, Loss: 0.06220978498458862\n",
      "Epoch 6/10, Batch 0/938, Loss: 0.022508565336465836\n",
      "Epoch 6/10, Batch 100/938, Loss: 0.09870222955942154\n",
      "Epoch 6/10, Batch 200/938, Loss: 0.10154898464679718\n",
      "Epoch 6/10, Batch 300/938, Loss: 0.0880521684885025\n",
      "Epoch 6/10, Batch 400/938, Loss: 0.05006983131170273\n",
      "Epoch 6/10, Batch 500/938, Loss: 0.11306937038898468\n",
      "Epoch 6/10, Batch 600/938, Loss: 0.11428091675043106\n",
      "Epoch 6/10, Batch 700/938, Loss: 0.10139070451259613\n",
      "Epoch 6/10, Batch 800/938, Loss: 0.1547364741563797\n",
      "Epoch 6/10, Batch 900/938, Loss: 0.10897311568260193\n",
      "Epoch 7/10, Batch 0/938, Loss: 0.07518299669027328\n",
      "Epoch 7/10, Batch 100/938, Loss: 0.020845141261816025\n",
      "Epoch 7/10, Batch 200/938, Loss: 0.012453438714146614\n",
      "Epoch 7/10, Batch 300/938, Loss: 0.025045856833457947\n",
      "Epoch 7/10, Batch 400/938, Loss: 0.012911652214825153\n",
      "Epoch 7/10, Batch 500/938, Loss: 0.07056329399347305\n",
      "Epoch 7/10, Batch 600/938, Loss: 0.046968989074230194\n",
      "Epoch 7/10, Batch 700/938, Loss: 0.22818142175674438\n",
      "Epoch 7/10, Batch 800/938, Loss: 0.032953303307294846\n",
      "Epoch 7/10, Batch 900/938, Loss: 0.08755889534950256\n",
      "Epoch 8/10, Batch 0/938, Loss: 0.013406489044427872\n",
      "Epoch 8/10, Batch 100/938, Loss: 0.14307275414466858\n",
      "Epoch 8/10, Batch 200/938, Loss: 0.06265754252672195\n",
      "Epoch 8/10, Batch 300/938, Loss: 0.0731746032834053\n",
      "Epoch 8/10, Batch 400/938, Loss: 0.04349808767437935\n",
      "Epoch 8/10, Batch 500/938, Loss: 0.044543273746967316\n",
      "Epoch 8/10, Batch 600/938, Loss: 0.04024990648031235\n",
      "Epoch 8/10, Batch 700/938, Loss: 0.1172870546579361\n",
      "Epoch 8/10, Batch 800/938, Loss: 0.08322539925575256\n",
      "Epoch 8/10, Batch 900/938, Loss: 0.031232386827468872\n",
      "Epoch 9/10, Batch 0/938, Loss: 0.029445774853229523\n",
      "Epoch 9/10, Batch 100/938, Loss: 0.014654276892542839\n",
      "Epoch 9/10, Batch 200/938, Loss: 0.07866368442773819\n",
      "Epoch 9/10, Batch 300/938, Loss: 0.016860082745552063\n",
      "Epoch 9/10, Batch 400/938, Loss: 0.05888902023434639\n",
      "Epoch 9/10, Batch 500/938, Loss: 0.008000417612493038\n",
      "Epoch 9/10, Batch 600/938, Loss: 0.05518369376659393\n",
      "Epoch 9/10, Batch 700/938, Loss: 0.04467525705695152\n",
      "Epoch 9/10, Batch 800/938, Loss: 0.03521744906902313\n",
      "Epoch 9/10, Batch 900/938, Loss: 0.05344986170530319\n",
      "Epoch 10/10, Batch 0/938, Loss: 0.07936402410268784\n",
      "Epoch 10/10, Batch 100/938, Loss: 0.06476893275976181\n",
      "Epoch 10/10, Batch 200/938, Loss: 0.10803761333227158\n",
      "Epoch 10/10, Batch 300/938, Loss: 0.03875894472002983\n",
      "Epoch 10/10, Batch 400/938, Loss: 0.03163830563426018\n",
      "Epoch 10/10, Batch 500/938, Loss: 0.03415524214506149\n",
      "Epoch 10/10, Batch 600/938, Loss: 0.023135358467698097\n",
      "Epoch 10/10, Batch 700/938, Loss: 0.06920924782752991\n",
      "Epoch 10/10, Batch 800/938, Loss: 0.022748591378331184\n",
      "Epoch 10/10, Batch 900/938, Loss: 0.11344214528799057\n"
     ]
    }
   ],
   "source": [
    "model = MLP().to(device)\n",
    "optimizer = optim.Adam(model.parameters(), lr=0.001)\n",
    "criterion = nn.CrossEntropyLoss()\n",
    "epochs = 10\n",
    "\n",
    "train(model, train_loader, criterion, optimizer, epochs, device)"
   ]
  },
  {
   "cell_type": "code",
   "execution_count": 14,
   "metadata": {},
   "outputs": [],
   "source": [
    "@torch.no_grad()\n",
    "def predict(dataloader, model, laplace=False):\n",
    "    py = []\n",
    "\n",
    "    for x, _ in dataloader:\n",
    "        if laplace:\n",
    "            py.append(model(x))\n",
    "        else:\n",
    "            py.append(torch.softmax(model(x), dim=-1))\n",
    "\n",
    "    return torch.cat(py).cpu().numpy()"
   ]
  },
  {
   "cell_type": "code",
   "execution_count": 8,
   "metadata": {},
   "outputs": [
    {
     "name": "stdout",
     "output_type": "stream",
     "text": [
      "0.9679\n"
     ]
    }
   ],
   "source": [
    "# img, label = train_dataset[0]\n",
    "# print(img.shape)\n",
    "# plt.imshow(img.squeeze(), cmap=\"gray\")\n",
    "# plt.show()\n",
    "\n",
    "# torch.softmax(model(img.unsqueeze(0).to(device)), dim=-1)\n",
    "\n",
    "probs_mlp = predict(test_loader, model, laplace=False)\n",
    "acc_laplace = (probs_mlp.argmax(-1) == targets).astype(float).mean()\n",
    "print(acc_laplace)"
   ]
  },
  {
   "cell_type": "code",
   "execution_count": 53,
   "metadata": {},
   "outputs": [],
   "source": [
    "class FastTensorDataLoader:\n",
    "    \"\"\"\n",
    "    Source: https://github.com/hcarlens/pytorch-tabular/blob/master/fast_tensor_data_loader.py\n",
    "    and https://discuss.pytorch.org/t/dataloader-much-slower-than-manual-batching/27014/6\n",
    "    \"\"\"\n",
    "    def __init__(self, *tensors, batch_size=32, shuffle=False):\n",
    "        assert all(t.shape[0] == tensors[0].shape[0] for t in tensors)\n",
    "        self.tensors = tensors\n",
    "        self.dataset = tensors[0]\n",
    "\n",
    "        self.dataset_len = self.tensors[0].shape[0]\n",
    "        self.batch_size = batch_size\n",
    "        self.shuffle = shuffle\n",
    "\n",
    "        # Calculate # batches\n",
    "        n_batches, remainder = divmod(self.dataset_len, self.batch_size)\n",
    "        if remainder > 0:\n",
    "            n_batches += 1\n",
    "        self.n_batches = n_batches\n",
    "\n",
    "    def __iter__(self):\n",
    "        if self.shuffle:\n",
    "            r = torch.randperm(self.dataset_len)\n",
    "            self.tensors = [t[r] for t in self.tensors]\n",
    "        self.i = 0\n",
    "        return self\n",
    "\n",
    "    def __next__(self):\n",
    "        if self.i >= self.dataset_len:\n",
    "            raise StopIteration\n",
    "        batch = tuple(t[self.i:self.i+self.batch_size] for t in self.tensors)\n",
    "        self.i += self.batch_size\n",
    "        return batch\n",
    "\n",
    "    def __len__(self):\n",
    "        return self.n_batches\n",
    "\n",
    "class PermutedMnistGenerator():\n",
    "    def __init__(self, data_path='./data', num_tasks=10, random_seed=0, download=False):\n",
    "        self.data_path = data_path\n",
    "        self.num_tasks = num_tasks\n",
    "        self.random_seed = random_seed\n",
    "        self.download = download\n",
    "        self.out_dim = 10           # number of classes in the MNIST dataset\n",
    "        self.in_dim = 784           # each image has 28x28 pixels\n",
    "        self.task_id = 0            # initialize the current task id\n",
    "\n",
    "    def next_task(self, batch_size=256, val_size=0):\n",
    "        if self.task_id >= self.num_tasks:\n",
    "            raise Exception('Number of tasks exceeded!')\n",
    "        else:\n",
    "            np.random.seed(self.task_id+self.random_seed)\n",
    "            perm_inds = np.arange(self.in_dim)\n",
    "\n",
    "            # First task is (unpermuted) MNIST, subsequent tasks are random permutations of pixels\n",
    "            if self.task_id > 0:\n",
    "                np.random.shuffle(perm_inds)\n",
    "\n",
    "            # make image a tensor and permute pixel values\n",
    "            tforms = transforms.Compose([\n",
    "                transforms.ToTensor(),\n",
    "                transforms.Lambda(lambda x: x.view(-1)[perm_inds]),\n",
    "            ])\n",
    "\n",
    "            # load datasets\n",
    "            train_set = datasets.MNIST(self.data_path, train=True,\n",
    "                                       transform=tforms, download=self.download)\n",
    "            val_test_set = datasets.MNIST(self.data_path, train=False,\n",
    "                                          transform=tforms, download=self.download)\n",
    "\n",
    "            # fast DataLoader for training\n",
    "            Xys = [train_set[i] for i in range(len(train_set))]\n",
    "            Xs = torch.stack([e[0] for e in Xys])\n",
    "            ys = torch.stack([torch.tensor(e[1]) for e in Xys])\n",
    "            train_loader = FastTensorDataLoader(Xs, ys, batch_size=batch_size, shuffle=True)\n",
    "            val_loader, test_loader = val_test_split(val_test_set,\n",
    "                                                     batch_size=batch_size,\n",
    "                                                     val_size=val_size,\n",
    "                                                     num_workers=0)\n",
    "\n",
    "            # increment task counter\n",
    "            self.task_id += 1\n",
    "\n",
    "            if val_size > 0:\n",
    "                return train_loader, val_loader, test_loader\n",
    "            return train_loader, test_loader"
   ]
  },
  {
   "cell_type": "markdown",
   "metadata": {},
   "source": [
    "# Laplace Full network"
   ]
  },
  {
   "cell_type": "code",
   "execution_count": 64,
   "metadata": {},
   "outputs": [],
   "source": [
    "from laplace import Laplace\n",
    "\n",
    "# create and train MAP model\n",
    "def get_model():\n",
    "    # torch.manual_seed(711)\n",
    "    return torch.nn.Sequential(\n",
    "        torch.nn.Flatten(), torch.nn.Linear(28*28, 128), torch.nn.ReLU(), torch.nn.Linear(128, 10)\n",
    "    )\n",
    "\n",
    "# la_model = get_model().to(device)\n",
    "la_model = get_model()\n",
    "\n",
    "# from laplace.utils import ModuleNameSubnetMask\n",
    "# subnetwork_mask = ModuleNameSubnetMask(model, module_names=['layer.1', 'layer.3'])\n",
    "# subnetwork_mask.select()\n",
    "# subnetwork_indices = subnetwork_mask.indices\n",
    "\n",
    "la = Laplace(la_model, 'classification', subset_of_weights='all', hessian_structure='all')\n",
    "la.fit(train_loader)"
   ]
  },
  {
   "cell_type": "code",
   "execution_count": 65,
   "metadata": {},
   "outputs": [
    {
     "name": "stdout",
     "output_type": "stream",
     "text": [
      "Epoch 1/10, Batch 0/938, Loss: 2.3524539470672607\n",
      "Epoch 1/10, Batch 100/938, Loss: 0.37617847323417664\n",
      "Epoch 1/10, Batch 200/938, Loss: 0.23701009154319763\n",
      "Epoch 1/10, Batch 300/938, Loss: 0.26912984251976013\n",
      "Epoch 1/10, Batch 400/938, Loss: 0.21315805613994598\n",
      "Epoch 1/10, Batch 500/938, Loss: 0.24192744493484497\n",
      "Epoch 1/10, Batch 600/938, Loss: 0.20942436158657074\n",
      "Epoch 1/10, Batch 700/938, Loss: 0.190696120262146\n",
      "Epoch 1/10, Batch 800/938, Loss: 0.2646137475967407\n",
      "Epoch 1/10, Batch 900/938, Loss: 0.23756569623947144\n",
      "Epoch 2/10, Batch 0/938, Loss: 0.2713465690612793\n",
      "Epoch 2/10, Batch 100/938, Loss: 0.17463646829128265\n",
      "Epoch 2/10, Batch 200/938, Loss: 0.14676672220230103\n",
      "Epoch 2/10, Batch 300/938, Loss: 0.42484673857688904\n",
      "Epoch 2/10, Batch 400/938, Loss: 0.08503503352403641\n",
      "Epoch 2/10, Batch 500/938, Loss: 0.1797647327184677\n",
      "Epoch 2/10, Batch 600/938, Loss: 0.08224215358495712\n",
      "Epoch 2/10, Batch 700/938, Loss: 0.11223670840263367\n",
      "Epoch 2/10, Batch 800/938, Loss: 0.1306297928094864\n",
      "Epoch 2/10, Batch 900/938, Loss: 0.4381912350654602\n",
      "Epoch 3/10, Batch 0/938, Loss: 0.16938643157482147\n",
      "Epoch 3/10, Batch 100/938, Loss: 0.2580287456512451\n",
      "Epoch 3/10, Batch 200/938, Loss: 0.05432110279798508\n",
      "Epoch 3/10, Batch 300/938, Loss: 0.16585317254066467\n",
      "Epoch 3/10, Batch 400/938, Loss: 0.1050221174955368\n",
      "Epoch 3/10, Batch 500/938, Loss: 0.11266569793224335\n",
      "Epoch 3/10, Batch 600/938, Loss: 0.06289636343717575\n",
      "Epoch 3/10, Batch 700/938, Loss: 0.04544948786497116\n",
      "Epoch 3/10, Batch 800/938, Loss: 0.1423032581806183\n",
      "Epoch 3/10, Batch 900/938, Loss: 0.053634852170944214\n",
      "Epoch 4/10, Batch 0/938, Loss: 0.10333430022001266\n",
      "Epoch 4/10, Batch 100/938, Loss: 0.0671054795384407\n",
      "Epoch 4/10, Batch 200/938, Loss: 0.12004191428422928\n",
      "Epoch 4/10, Batch 300/938, Loss: 0.21505051851272583\n",
      "Epoch 4/10, Batch 400/938, Loss: 0.0628768727183342\n",
      "Epoch 4/10, Batch 500/938, Loss: 0.14451199769973755\n",
      "Epoch 4/10, Batch 600/938, Loss: 0.09114278852939606\n",
      "Epoch 4/10, Batch 700/938, Loss: 0.14695201814174652\n",
      "Epoch 4/10, Batch 800/938, Loss: 0.09205344319343567\n",
      "Epoch 4/10, Batch 900/938, Loss: 0.18574798107147217\n",
      "Epoch 5/10, Batch 0/938, Loss: 0.1271096169948578\n",
      "Epoch 5/10, Batch 100/938, Loss: 0.2154027372598648\n",
      "Epoch 5/10, Batch 200/938, Loss: 0.025125857442617416\n",
      "Epoch 5/10, Batch 300/938, Loss: 0.07181960344314575\n",
      "Epoch 5/10, Batch 400/938, Loss: 0.14816653728485107\n",
      "Epoch 5/10, Batch 500/938, Loss: 0.1326785534620285\n",
      "Epoch 5/10, Batch 600/938, Loss: 0.14144229888916016\n",
      "Epoch 5/10, Batch 700/938, Loss: 0.2753683924674988\n",
      "Epoch 5/10, Batch 800/938, Loss: 0.09582685679197311\n",
      "Epoch 5/10, Batch 900/938, Loss: 0.2460159808397293\n",
      "Epoch 6/10, Batch 0/938, Loss: 0.07903582602739334\n",
      "Epoch 6/10, Batch 100/938, Loss: 0.20465998351573944\n",
      "Epoch 6/10, Batch 200/938, Loss: 0.10824418812990189\n",
      "Epoch 6/10, Batch 300/938, Loss: 0.101759172976017\n",
      "Epoch 6/10, Batch 400/938, Loss: 0.05712898448109627\n",
      "Epoch 6/10, Batch 500/938, Loss: 0.01530403457581997\n",
      "Epoch 6/10, Batch 600/938, Loss: 0.05356302484869957\n",
      "Epoch 6/10, Batch 700/938, Loss: 0.0626448392868042\n",
      "Epoch 6/10, Batch 800/938, Loss: 0.15876835584640503\n",
      "Epoch 6/10, Batch 900/938, Loss: 0.03515851870179176\n",
      "Epoch 7/10, Batch 0/938, Loss: 0.15283969044685364\n",
      "Epoch 7/10, Batch 100/938, Loss: 0.12731608748435974\n",
      "Epoch 7/10, Batch 200/938, Loss: 0.008268216624855995\n",
      "Epoch 7/10, Batch 300/938, Loss: 0.08964632451534271\n",
      "Epoch 7/10, Batch 400/938, Loss: 0.26170793175697327\n",
      "Epoch 7/10, Batch 500/938, Loss: 0.004739417694509029\n",
      "Epoch 7/10, Batch 600/938, Loss: 0.12155897915363312\n",
      "Epoch 7/10, Batch 700/938, Loss: 0.00747700734063983\n",
      "Epoch 7/10, Batch 800/938, Loss: 0.04855568706989288\n",
      "Epoch 7/10, Batch 900/938, Loss: 0.04438871890306473\n",
      "Epoch 8/10, Batch 0/938, Loss: 0.06735825538635254\n",
      "Epoch 8/10, Batch 100/938, Loss: 0.08433853089809418\n",
      "Epoch 8/10, Batch 200/938, Loss: 0.03763388842344284\n",
      "Epoch 8/10, Batch 300/938, Loss: 0.06741911917924881\n",
      "Epoch 8/10, Batch 400/938, Loss: 0.05199989303946495\n",
      "Epoch 8/10, Batch 500/938, Loss: 0.19387711584568024\n",
      "Epoch 8/10, Batch 600/938, Loss: 0.03331506997346878\n",
      "Epoch 8/10, Batch 700/938, Loss: 0.08593136817216873\n",
      "Epoch 8/10, Batch 800/938, Loss: 0.098084457218647\n",
      "Epoch 8/10, Batch 900/938, Loss: 0.2140718251466751\n",
      "Epoch 9/10, Batch 0/938, Loss: 0.05233509838581085\n",
      "Epoch 9/10, Batch 100/938, Loss: 0.0347050316631794\n",
      "Epoch 9/10, Batch 200/938, Loss: 0.06473599374294281\n",
      "Epoch 9/10, Batch 300/938, Loss: 0.04687156528234482\n",
      "Epoch 9/10, Batch 400/938, Loss: 0.11228818446397781\n",
      "Epoch 9/10, Batch 500/938, Loss: 0.264133483171463\n",
      "Epoch 9/10, Batch 600/938, Loss: 0.023989783599972725\n",
      "Epoch 9/10, Batch 700/938, Loss: 0.04863949120044708\n",
      "Epoch 9/10, Batch 800/938, Loss: 0.009378467686474323\n",
      "Epoch 9/10, Batch 900/938, Loss: 0.016944462433457375\n",
      "Epoch 10/10, Batch 0/938, Loss: 0.015051469206809998\n",
      "Epoch 10/10, Batch 100/938, Loss: 0.03835931420326233\n",
      "Epoch 10/10, Batch 200/938, Loss: 0.04345231503248215\n",
      "Epoch 10/10, Batch 300/938, Loss: 0.09356758743524551\n",
      "Epoch 10/10, Batch 400/938, Loss: 0.03231072053313255\n",
      "Epoch 10/10, Batch 500/938, Loss: 0.12129737436771393\n",
      "Epoch 10/10, Batch 600/938, Loss: 0.0038997195661067963\n",
      "Epoch 10/10, Batch 700/938, Loss: 0.0411706268787384\n",
      "Epoch 10/10, Batch 800/938, Loss: 0.011694883927702904\n",
      "Epoch 10/10, Batch 900/938, Loss: 0.071988046169281\n"
     ]
    }
   ],
   "source": [
    "optimizer = optim.Adam(la_model.parameters(), lr=0.001)\n",
    "criterion = nn.CrossEntropyLoss()\n",
    "epochs = 10\n",
    "\n",
    "train(la_model, train_loader, criterion, optimizer, epochs, device='cpu')"
   ]
  },
  {
   "cell_type": "code",
   "execution_count": 66,
   "metadata": {},
   "outputs": [
    {
     "name": "stdout",
     "output_type": "stream",
     "text": [
      "0.9701\n"
     ]
    }
   ],
   "source": [
    "probs_laplace = predict(test_loader, la_model, laplace=True)\n",
    "acc_laplace = (probs_laplace.argmax(-1) == targets).astype(float).mean()\n",
    "print(acc_laplace)"
   ]
  },
  {
   "cell_type": "code",
   "execution_count": 67,
   "metadata": {},
   "outputs": [
    {
     "name": "stderr",
     "output_type": "stream",
     "text": [
      "d:\\coding\\LotteryTicketPruning\\playTest\\reliability_diag.py:177: UserWarning: set_ticklabels() should only be used with a fixed number of ticks, i.e. after set_ticks() or using a FixedLocator.\n",
      "  ax[1].set_yticklabels(new_ticks)\n"
     ]
    },
    {
     "data": {
      "image/png": "[encoded data removed]",
      "text/plain": [
       "<Figure size 600x840 with 2 Axes>"
      ]
     },
     "metadata": {},
     "output_type": "display_data"
    }
   ],
   "source": [
    "import reliability_diag as rd\n",
    "import importlib\n",
    "importlib.reload(rd)\n",
    "\n",
    "title = \"Reliability Diagram for MNIST (Full Network)\"\n",
    "\n",
    "fig = rd.reliability_diagram(\n",
    "    targets.astype(float),\n",
    "    probs_laplace.argmax(-1).astype(float),\n",
    "    np.max(probs_laplace, axis=1).astype(float),\n",
    "    num_bins=10, draw_ece=True,\n",
    "    draw_bin_importance=\"alpha\",\n",
    "    draw_averages=True, title=title,\n",
    "    figsize=(6, 6), \n",
    "    dpi=100, return_fig=True\n",
    "    )"
   ]
  },
  {
   "cell_type": "markdown",
   "metadata": {},
   "source": [
    "# Subnetwork: Last Layer"
   ]
  },
  {
   "cell_type": "code",
   "execution_count": 24,
   "metadata": {},
   "outputs": [
    {
     "name": "stdout",
     "output_type": "stream",
     "text": [
      "1.weight torch.Size([128, 784])\n",
      "1.bias torch.Size([128])\n",
      "3.weight torch.Size([10, 128])\n",
      "3.bias torch.Size([10])\n"
     ]
    }
   ],
   "source": [
    "from laplace import Laplace\n",
    "\n",
    "# create and train MAP model\n",
    "def get_model():\n",
    "    # torch.manual_seed(711)\n",
    "    return torch.nn.Sequential(\n",
    "        torch.nn.Flatten(), torch.nn.Linear(28*28, 128), torch.nn.ReLU(), torch.nn.Linear(128, 10)\n",
    "    )\n",
    "\n",
    "# la_model = get_model().to(device)\n",
    "la_model = get_model()\n",
    "\n",
    "# for name, param in la_model.named_parameters():\n",
    "# \tprint(name, param.shape)\n",
    "\n",
    "from laplace.utils import ModuleNameSubnetMask\n",
    "subnetwork_mask = ModuleNameSubnetMask(la_model, module_names=['3'])\n",
    "subnetwork_mask.select()\n",
    "subnetwork_indices = subnetwork_mask.indices\n",
    "\n",
    "la = Laplace(la_model, 'classification', subset_of_weights='subnetwork', hessian_structure='full', subnetwork_indices=subnetwork_indices)\n",
    "la.fit(train_loader)"
   ]
  },
  {
   "cell_type": "code",
   "execution_count": 25,
   "metadata": {},
   "outputs": [
    {
     "name": "stdout",
     "output_type": "stream",
     "text": [
      "Epoch 1/10, Batch 0/938, Loss: 2.3160769939422607\n",
      "Epoch 1/10, Batch 100/938, Loss: 0.5820902585983276\n",
      "Epoch 1/10, Batch 200/938, Loss: 0.28578847646713257\n",
      "Epoch 1/10, Batch 300/938, Loss: 0.24848727881908417\n",
      "Epoch 1/10, Batch 400/938, Loss: 0.4475648105144501\n",
      "Epoch 1/10, Batch 500/938, Loss: 0.2566995322704315\n",
      "Epoch 1/10, Batch 600/938, Loss: 0.2432379126548767\n",
      "Epoch 1/10, Batch 700/938, Loss: 0.5517505407333374\n",
      "Epoch 1/10, Batch 800/938, Loss: 0.3190775215625763\n",
      "Epoch 1/10, Batch 900/938, Loss: 0.22214767336845398\n",
      "Epoch 2/10, Batch 0/938, Loss: 0.46998143196105957\n",
      "Epoch 2/10, Batch 100/938, Loss: 0.21543151140213013\n",
      "Epoch 2/10, Batch 200/938, Loss: 0.18171142041683197\n",
      "Epoch 2/10, Batch 300/938, Loss: 0.28310054540634155\n",
      "Epoch 2/10, Batch 400/938, Loss: 0.3337167203426361\n",
      "Epoch 2/10, Batch 500/938, Loss: 0.19309040904045105\n",
      "Epoch 2/10, Batch 600/938, Loss: 0.22307716310024261\n",
      "Epoch 2/10, Batch 700/938, Loss: 0.10379878431558609\n",
      "Epoch 2/10, Batch 800/938, Loss: 0.09056320041418076\n",
      "Epoch 2/10, Batch 900/938, Loss: 0.09755976498126984\n",
      "Epoch 3/10, Batch 0/938, Loss: 0.0859573483467102\n",
      "Epoch 3/10, Batch 100/938, Loss: 0.39268478751182556\n",
      "Epoch 3/10, Batch 200/938, Loss: 0.04656737670302391\n",
      "Epoch 3/10, Batch 300/938, Loss: 0.19448360800743103\n",
      "Epoch 3/10, Batch 400/938, Loss: 0.05824005603790283\n",
      "Epoch 3/10, Batch 500/938, Loss: 0.16265754401683807\n",
      "Epoch 3/10, Batch 600/938, Loss: 0.16127602756023407\n",
      "Epoch 3/10, Batch 700/938, Loss: 0.08994964510202408\n",
      "Epoch 3/10, Batch 800/938, Loss: 0.37027549743652344\n",
      "Epoch 3/10, Batch 900/938, Loss: 0.06977006047964096\n",
      "Epoch 4/10, Batch 0/938, Loss: 0.05624198541045189\n",
      "Epoch 4/10, Batch 100/938, Loss: 0.052333615720272064\n",
      "Epoch 4/10, Batch 200/938, Loss: 0.3629531264305115\n",
      "Epoch 4/10, Batch 300/938, Loss: 0.21149682998657227\n",
      "Epoch 4/10, Batch 400/938, Loss: 0.10762373358011246\n",
      "Epoch 4/10, Batch 500/938, Loss: 0.09187430143356323\n",
      "Epoch 4/10, Batch 600/938, Loss: 0.1500835418701172\n",
      "Epoch 4/10, Batch 700/938, Loss: 0.16035142540931702\n",
      "Epoch 4/10, Batch 800/938, Loss: 0.14199532568454742\n",
      "Epoch 4/10, Batch 900/938, Loss: 0.05398363620042801\n",
      "Epoch 5/10, Batch 0/938, Loss: 0.05344925448298454\n",
      "Epoch 5/10, Batch 100/938, Loss: 0.11014723032712936\n",
      "Epoch 5/10, Batch 200/938, Loss: 0.048634663224220276\n",
      "Epoch 5/10, Batch 300/938, Loss: 0.24656108021736145\n",
      "Epoch 5/10, Batch 400/938, Loss: 0.187261700630188\n",
      "Epoch 5/10, Batch 500/938, Loss: 0.12425240874290466\n",
      "Epoch 5/10, Batch 600/938, Loss: 0.09499559551477432\n",
      "Epoch 5/10, Batch 700/938, Loss: 0.07413708418607712\n",
      "Epoch 5/10, Batch 800/938, Loss: 0.03061063215136528\n",
      "Epoch 5/10, Batch 900/938, Loss: 0.07722388207912445\n",
      "Epoch 6/10, Batch 0/938, Loss: 0.10609105974435806\n",
      "Epoch 6/10, Batch 100/938, Loss: 0.031702522188425064\n",
      "Epoch 6/10, Batch 200/938, Loss: 0.056885164231061935\n",
      "Epoch 6/10, Batch 300/938, Loss: 0.09504380077123642\n",
      "Epoch 6/10, Batch 400/938, Loss: 0.11913556605577469\n",
      "Epoch 6/10, Batch 500/938, Loss: 0.06207786500453949\n",
      "Epoch 6/10, Batch 600/938, Loss: 0.08671503514051437\n",
      "Epoch 6/10, Batch 700/938, Loss: 0.17736376821994781\n",
      "Epoch 6/10, Batch 800/938, Loss: 0.10578542202711105\n",
      "Epoch 6/10, Batch 900/938, Loss: 0.1612827181816101\n",
      "Epoch 7/10, Batch 0/938, Loss: 0.026990896090865135\n",
      "Epoch 7/10, Batch 100/938, Loss: 0.042841941118240356\n",
      "Epoch 7/10, Batch 200/938, Loss: 0.08271215856075287\n",
      "Epoch 7/10, Batch 300/938, Loss: 0.0416506752371788\n",
      "Epoch 7/10, Batch 400/938, Loss: 0.029920097440481186\n",
      "Epoch 7/10, Batch 500/938, Loss: 0.03325747326016426\n",
      "Epoch 7/10, Batch 600/938, Loss: 0.03405744209885597\n",
      "Epoch 7/10, Batch 700/938, Loss: 0.041171398013830185\n",
      "Epoch 7/10, Batch 800/938, Loss: 0.04506134241819382\n",
      "Epoch 7/10, Batch 900/938, Loss: 0.18268398940563202\n",
      "Epoch 8/10, Batch 0/938, Loss: 0.03317848965525627\n",
      "Epoch 8/10, Batch 100/938, Loss: 0.05809923633933067\n",
      "Epoch 8/10, Batch 200/938, Loss: 0.05387474596500397\n",
      "Epoch 8/10, Batch 300/938, Loss: 0.028793951496481895\n",
      "Epoch 8/10, Batch 400/938, Loss: 0.03157848119735718\n",
      "Epoch 8/10, Batch 500/938, Loss: 0.08180280774831772\n",
      "Epoch 8/10, Batch 600/938, Loss: 0.032601840794086456\n",
      "Epoch 8/10, Batch 700/938, Loss: 0.15033625066280365\n",
      "Epoch 8/10, Batch 800/938, Loss: 0.06946056336164474\n",
      "Epoch 8/10, Batch 900/938, Loss: 0.03761190548539162\n",
      "Epoch 9/10, Batch 0/938, Loss: 0.024258185178041458\n",
      "Epoch 9/10, Batch 100/938, Loss: 0.12535782158374786\n",
      "Epoch 9/10, Batch 200/938, Loss: 0.09885574132204056\n",
      "Epoch 9/10, Batch 300/938, Loss: 0.11370866745710373\n",
      "Epoch 9/10, Batch 400/938, Loss: 0.08150579035282135\n",
      "Epoch 9/10, Batch 500/938, Loss: 0.02350802533328533\n",
      "Epoch 9/10, Batch 600/938, Loss: 0.15091365575790405\n",
      "Epoch 9/10, Batch 700/938, Loss: 0.08945765346288681\n",
      "Epoch 9/10, Batch 800/938, Loss: 0.14924916625022888\n",
      "Epoch 9/10, Batch 900/938, Loss: 0.14582669734954834\n",
      "Epoch 10/10, Batch 0/938, Loss: 0.14397680759429932\n",
      "Epoch 10/10, Batch 100/938, Loss: 0.14250494539737701\n",
      "Epoch 10/10, Batch 200/938, Loss: 0.017739059403538704\n",
      "Epoch 10/10, Batch 300/938, Loss: 0.014869957230985165\n",
      "Epoch 10/10, Batch 400/938, Loss: 0.066721111536026\n",
      "Epoch 10/10, Batch 500/938, Loss: 0.12580746412277222\n",
      "Epoch 10/10, Batch 600/938, Loss: 0.12275508046150208\n",
      "Epoch 10/10, Batch 700/938, Loss: 0.020304184406995773\n",
      "Epoch 10/10, Batch 800/938, Loss: 0.045414894819259644\n",
      "Epoch 10/10, Batch 900/938, Loss: 0.0562649630010128\n",
      "0.9648\n"
     ]
    }
   ],
   "source": [
    "optimizer = optim.Adam(la_model.parameters(), lr=0.001)\n",
    "criterion = nn.CrossEntropyLoss()\n",
    "epochs = 10\n",
    "\n",
    "train(la_model, train_loader, criterion, optimizer, epochs, device='cpu')"
   ]
  },
  {
   "cell_type": "code",
   "execution_count": 42,
   "metadata": {},
   "outputs": [
    {
     "name": "stdout",
     "output_type": "stream",
     "text": [
      "0.9648\n"
     ]
    }
   ],
   "source": [
    "probs_laplace = predict(test_loader, la_model, laplace=True)\n",
    "acc_laplace = (probs_laplace.argmax(-1) == targets).astype(float).mean()\n",
    "print(acc_laplace)"
   ]
  },
  {
   "cell_type": "code",
   "execution_count": 63,
   "metadata": {},
   "outputs": [
    {
     "name": "stderr",
     "output_type": "stream",
     "text": [
      "d:\\coding\\LotteryTicketPruning\\playTest\\reliability_diag.py:177: UserWarning: set_ticklabels() should only be used with a fixed number of ticks, i.e. after set_ticks() or using a FixedLocator.\n",
      "  ax[1].set_yticklabels(new_ticks)\n"
     ]
    },
    {
     "data": {
      "image/png": "[encoded data removed]",
      "text/plain": [
       "<Figure size 600x840 with 2 Axes>"
      ]
     },
     "metadata": {},
     "output_type": "display_data"
    }
   ],
   "source": [
    "import reliability_diag as rd\n",
    "import importlib\n",
    "importlib.reload(rd)\n",
    "\n",
    "title = \"Reliability Diagram for MNIST (Last Layer)\"\n",
    "\n",
    "fig = rd.reliability_diagram(\n",
    "    targets.astype(float),\n",
    "    probs_laplace.argmax(-1).astype(float),\n",
    "    np.max(probs_laplace, axis=1).astype(float),\n",
    "    num_bins=10, draw_ece=True,\n",
    "    draw_bin_importance=\"alpha\",\n",
    "    draw_averages=True, title=title,\n",
    "    figsize=(6, 6), \n",
    "    dpi=100, return_fig=True\n",
    "    )"
   ]
  },
  {
   "cell_type": "code",
   "execution_count": 54,
   "metadata": {},
   "outputs": [
    {
     "data": {
      "text/plain": [
       "array([ 9.48554325, 11.09114456,  6.67536736, ..., 14.51783562,\n",
       "       12.97873592, 14.2789917 ])"
      ]
     },
     "execution_count": 54,
     "metadata": {},
     "output_type": "execute_result"
    }
   ],
   "source": [
    "np.max(probs_laplace, axis=1).astype(float)\n",
    "# probs_laplace.argmax(-1).astype(float)"
   ]
  },
  {
   "cell_type": "code",
   "execution_count": 61,
   "metadata": {},
   "outputs": [
    {
     "data": {
      "text/plain": [
       "<module 'reliability_diag' from 'd:\\\\coding\\\\LotteryTicketPruning\\\\playTest\\\\reliability_diag.py'>"
      ]
     },
     "execution_count": 61,
     "metadata": {},
     "output_type": "execute_result"
    }
   ],
   "source": []
  }
 ],
 "metadata": {
  "kernelspec": {
   "display_name": "torch",
   "language": "python",
   "name": "python3"
  },
  "language_info": {
   "codemirror_mode": {
    "name": "ipython",
    "version": 3
   },
   "file_extension": ".py",
   "mimetype": "text/x-python",
   "name": "python",
   "nbconvert_exporter": "python",
   "pygments_lexer": "ipython3",
   "version": "3.9.18"
  },
  "orig_nbformat": 4
 },
 "nbformat": 4,
 "nbformat_minor": 2
}
